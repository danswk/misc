{
 "cells": [
  {
   "cell_type": "code",
   "execution_count": 11,
   "id": "c31b164b-923c-4a58-8fe0-7a67b923e034",
   "metadata": {},
   "outputs": [
    {
     "ename": "FileNotFoundError",
     "evalue": "[Errno 2] No such file or directory: './data/google-trends'",
     "output_type": "error",
     "traceback": [
      "\u001b[0;31m---------------------------------------------------------------------------\u001b[0m",
      "\u001b[0;31mFileNotFoundError\u001b[0m                         Traceback (most recent call last)",
      "Input \u001b[0;32mIn [11]\u001b[0m, in \u001b[0;36m<cell line: 8>\u001b[0;34m()\u001b[0m\n\u001b[1;32m      6\u001b[0m \u001b[38;5;28;01mimport\u001b[39;00m \u001b[38;5;21;01mos\u001b[39;00m\n\u001b[1;32m      7\u001b[0m data_dir \u001b[38;5;241m=\u001b[39m \u001b[38;5;124m'\u001b[39m\u001b[38;5;124m./data/google-trends\u001b[39m\u001b[38;5;124m'\u001b[39m\n\u001b[0;32m----> 8\u001b[0m \u001b[43mos\u001b[49m\u001b[38;5;241;43m.\u001b[39;49m\u001b[43mlistdir\u001b[49m\u001b[43m(\u001b[49m\u001b[43mdata_dir\u001b[49m\u001b[43m)\u001b[49m\n",
      "\u001b[0;31mFileNotFoundError\u001b[0m: [Errno 2] No such file or directory: './data/google-trends'"
     ]
    }
   ],
   "source": [
    "import pandas as pd\n",
    "import matplotlib.pyplot as plt\n",
    "%matplotlib inline\n",
    "import seaborn as sns\n",
    "\n",
    "import os\n",
    "data_dir = './data/google-trends'\n",
    "os.listdir(data_dir)"
   ]
  },
  {
   "cell_type": "code",
   "execution_count": null,
   "id": "354636fd-12b5-4699-8119-464376279b8b",
   "metadata": {},
   "outputs": [],
   "source": [
    "uk_csv = 'uk.csv'\n",
    "uk_path = os.path.join(data_dir, uk_csv)\n",
    "uk = pd.read_csv(uk_path)"
   ]
  },
  {
   "cell_type": "code",
   "execution_count": null,
   "id": "bb5cfaa1-86ab-4a6a-9772-b6b49d4f881e",
   "metadata": {},
   "outputs": [],
   "source": [
    "uk_df = pd.DataFrame(uk)\n",
    "uk_df"
   ]
  },
  {
   "cell_type": "code",
   "execution_count": null,
   "id": "4ff1430f-459b-4e44-bb81-7a4667362ba3",
   "metadata": {},
   "outputs": [],
   "source": [
    "uk_df['Month'] = pd.to_datetime(uk_df['Month'])  # convert 'Month' column to datetime format\n",
    "\n",
    "plt.figure(figsize=(16, 8))\n",
    "plt.plot(uk_df['Month'], uk_df['learn sql'], label=\"'learn sql'\", color='#495F9F', marker='o', mfc='blue', mec='black')\n",
    "plt.plot(uk_df['Month'], uk_df['learn python'], label=\"'learn python'\", color='#9F9F49', marker='o', mfc='yellow', mec='black')\n",
    "plt.xlim(uk_df['Month'].min(), uk_df['Month'].max())\n",
    "\n",
    "# find middle of each year for tick positions\n",
    "years = uk_df['Month'].dt.year.unique()\n",
    "year_start = [pd.to_datetime(f'{year}-01-01') for year in years]\n",
    "plt.xticks(year_start, [str(year) for year in years], rotation=45, ha='right')\n",
    "\n",
    "plt.title(\"Google Trends: Interest in Learning SQL vs Python (UK)\")\n",
    "plt.xlabel('Year')\n",
    "plt.ylabel('Search Volume')\n",
    "plt.legend(title='Search Terms')\n",
    "plt.gca().set_facecolor('aliceblue')\n",
    "plt.grid(True)\n",
    "\n",
    "plt.show()"
   ]
  },
  {
   "cell_type": "code",
   "execution_count": null,
   "id": "295637a6-f3f4-46eb-9471-7526de64c73e",
   "metadata": {},
   "outputs": [],
   "source": [
    "sk_csv = 'sk.csv'\n",
    "sk_path = os.path.join(data_dir, sk_csv)\n",
    "sk = pd.read_csv(sk_path)"
   ]
  },
  {
   "cell_type": "code",
   "execution_count": null,
   "id": "a4cc4190-7838-4e85-bdc3-a1f727f9a7ab",
   "metadata": {},
   "outputs": [],
   "source": [
    "sk_df = pd.DataFrame(sk)\n",
    "sk_df"
   ]
  },
  {
   "cell_type": "code",
   "execution_count": null,
   "id": "bc663508-60a6-4024-a66d-8e8b4200e950",
   "metadata": {},
   "outputs": [],
   "source": [
    "sk_df['Month'] = pd.to_datetime(sk_df['Month'])  # convert 'Month' column to datetime format\n",
    "\n",
    "plt.figure(figsize=(16, 8))\n",
    "plt.plot(sk_df['Month'], sk_df['learn sql'], label=\"'learn sql'\", color='#495F9F', marker='o', mfc='blue', mec='black')\n",
    "plt.plot(sk_df['Month'], sk_df['learn python'], label=\"'learn python'\", color='#9F9F49', marker='o', mfc='yellow', mec='black')\n",
    "\n",
    "plt.title(\"Google Trends: Interest in Learning SQL vs Python (South Korea)\")\n",
    "plt.xlabel('Year')\n",
    "plt.ylabel('Search Volume')\n",
    "plt.legend(title='Search Terms')\n",
    "\n",
    "# find middle of each year\n",
    "years = sk_df['Month'].dt.year.unique()\n",
    "year_start = [pd.to_datetime(f'{year}-01-01') for year in years]\n",
    "\n",
    "plt.xticks(year_start, [str(year) for year in years], rotation=45, ha='right')\n",
    "plt.xlim(sk_df['Month'].min(), sk_df['Month'].max())\n",
    "plt.gca().set_facecolor('aliceblue')\n",
    "plt.grid(True)\n",
    "plt.show()"
   ]
  }
 ],
 "metadata": {
  "kernelspec": {
   "display_name": "Python 3 (ipykernel)",
   "language": "python",
   "name": "python3"
  },
  "language_info": {
   "codemirror_mode": {
    "name": "ipython",
    "version": 3
   },
   "file_extension": ".py",
   "mimetype": "text/x-python",
   "name": "python",
   "nbconvert_exporter": "python",
   "pygments_lexer": "ipython3",
   "version": "3.9.12"
  }
 },
 "nbformat": 4,
 "nbformat_minor": 5
}
