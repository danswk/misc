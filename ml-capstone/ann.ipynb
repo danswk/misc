{
 "cells": [
  {
   "cell_type": "code",
   "execution_count": 1,
   "id": "1805bf0e-1109-4f62-a869-59bfaa2b15b7",
   "metadata": {},
   "outputs": [],
   "source": [
    "!pip install --quiet tensorflow==2.7.0\n",
    "\n",
    "import pandas as pd\n",
    "import tensorflow as tf\n",
    "from tensorflow import keras\n",
    "from tensorflow.keras import layers\n",
    "import matplotlib.pyplot as plt"
   ]
  },
  {
   "cell_type": "code",
   "execution_count": 2,
   "id": "677cd3ef-5154-4a93-a386-e06d6debfc9f",
   "metadata": {},
   "outputs": [
    {
     "data": {
      "text/html": [
       "<div>\n",
       "<style scoped>\n",
       "    .dataframe tbody tr th:only-of-type {\n",
       "        vertical-align: middle;\n",
       "    }\n",
       "\n",
       "    .dataframe tbody tr th {\n",
       "        vertical-align: top;\n",
       "    }\n",
       "\n",
       "    .dataframe thead th {\n",
       "        text-align: right;\n",
       "    }\n",
       "</style>\n",
       "<table border=\"1\" class=\"dataframe\">\n",
       "  <thead>\n",
       "    <tr style=\"text-align: right;\">\n",
       "      <th></th>\n",
       "      <th>user</th>\n",
       "      <th>item</th>\n",
       "      <th>rating</th>\n",
       "    </tr>\n",
       "  </thead>\n",
       "  <tbody>\n",
       "    <tr>\n",
       "      <th>0</th>\n",
       "      <td>1889878</td>\n",
       "      <td>CC0101EN</td>\n",
       "      <td>3.0</td>\n",
       "    </tr>\n",
       "    <tr>\n",
       "      <th>1</th>\n",
       "      <td>1342067</td>\n",
       "      <td>CL0101EN</td>\n",
       "      <td>3.0</td>\n",
       "    </tr>\n",
       "    <tr>\n",
       "      <th>2</th>\n",
       "      <td>1990814</td>\n",
       "      <td>ML0120ENv3</td>\n",
       "      <td>3.0</td>\n",
       "    </tr>\n",
       "    <tr>\n",
       "      <th>3</th>\n",
       "      <td>380098</td>\n",
       "      <td>BD0211EN</td>\n",
       "      <td>3.0</td>\n",
       "    </tr>\n",
       "    <tr>\n",
       "      <th>4</th>\n",
       "      <td>779563</td>\n",
       "      <td>DS0101EN</td>\n",
       "      <td>3.0</td>\n",
       "    </tr>\n",
       "  </tbody>\n",
       "</table>\n",
       "</div>"
      ],
      "text/plain": [
       "      user        item  rating\n",
       "0  1889878    CC0101EN     3.0\n",
       "1  1342067    CL0101EN     3.0\n",
       "2  1990814  ML0120ENv3     3.0\n",
       "3   380098    BD0211EN     3.0\n",
       "4   779563    DS0101EN     3.0"
      ]
     },
     "execution_count": 2,
     "metadata": {},
     "output_type": "execute_result"
    }
   ],
   "source": [
    "rating_url = 'https://cf-courses-data.s3.us.cloud-object-storage.appdomain.cloud/IBM-ML321EN-SkillsNetwork/labs/datasets/ratings.csv'\n",
    "rating_df = pd.read_csv(rating_url)\n",
    "rating_df.head()"
   ]
  },
  {
   "cell_type": "code",
   "execution_count": 3,
   "id": "a02511e9-7421-4fe4-bb5c-ad855a4f9f60",
   "metadata": {},
   "outputs": [
    {
     "name": "stdout",
     "output_type": "stream",
     "text": [
      "There are 33901 total users and 126 total items\n"
     ]
    }
   ],
   "source": [
    "num_users = len(rating_df['user'].unique())\n",
    "num_items = len(rating_df['item'].unique())\n",
    "print(f'There are {num_users} total users and {num_items} total items')"
   ]
  },
  {
   "cell_type": "code",
   "execution_count": 4,
   "id": "788f5d5f-1ede-4246-9bc9-b62a113627a9",
   "metadata": {},
   "outputs": [],
   "source": [
    "class RecommenderNet(keras.Model):\n",
    "    \n",
    "    def __init__(self, num_users, num_items, embedding_size=16, **kwargs):\n",
    "        \"\"\"\n",
    "           Constructor\n",
    "           :param int num_users: number of users\n",
    "           :param int num_items: number of items\n",
    "           :param int embedding_size: size of embedding vector\n",
    "        \"\"\"\n",
    "        super(RecommenderNet, self).__init__(**kwargs)\n",
    "        self.num_users = num_users\n",
    "        self.num_items = num_items\n",
    "        self.embedding_size = embedding_size\n",
    "        \n",
    "        # define user_embedding vector with num_users as input dimension, embedding size as output dimension\n",
    "        self.user_embedding_layer = layers.Embedding(\n",
    "            input_dim=num_users,\n",
    "            output_dim=embedding_size,\n",
    "            name='user_embedding_layer',\n",
    "            embeddings_initializer='he_normal',\n",
    "            embeddings_regularizer=keras.regularizers.l2(1e-6),\n",
    "        )\n",
    "        \n",
    "        # define user bias layer\n",
    "        self.user_bias = layers.Embedding(\n",
    "            input_dim=num_users,\n",
    "            output_dim=1,\n",
    "            name='user_bias'\n",
    "        )\n",
    "        \n",
    "        # define item_embedding vector with num_items as input dimension, embedding size as output dimension\n",
    "        self.item_embedding_layer = layers.Embedding(\n",
    "            input_dim=num_items,\n",
    "            output_dim=embedding_size,\n",
    "            name='item_embedding_layer',\n",
    "            embeddings_initializer='he_normal',\n",
    "            embeddings_regularizer=keras.regularizers.l2(1e-6),\n",
    "        )\n",
    "        \n",
    "        # define item bias layer\n",
    "        self.item_bias = layers.Embedding(\n",
    "            input_dim=num_items,\n",
    "            output_dim=1,\n",
    "            name='item_bias'\n",
    "        )\n",
    "        \n",
    "    def call(self, inputs):\n",
    "        \"\"\"\n",
    "           method to be called during model fitting\n",
    "           param inputs: user, item one-hot vectors\n",
    "        \"\"\"\n",
    "        \n",
    "        user_vector = self.user_embedding_layer(inputs[:, 0])  # compute user embedding vector\n",
    "        user_bias = self.user_bias(inputs[:, 0])\n",
    "        item_vector = self.item_embedding_layer(inputs[:, 1])  # compute item embedding vector\n",
    "        item_bias = self.item_bias(inputs[:, 1])\n",
    "        dot_user_item = tf.tensordot(user_vector, item_vector, 2)\n",
    "        x = dot_user_item + user_bias + item_bias  # add all components (including bias)\n",
    "        \n",
    "        return tf.nn.sigmoid(x)  # sigmoid layer to output probability"
   ]
  },
  {
   "cell_type": "code",
   "execution_count": 5,
   "id": "1e3f99da-2783-494d-8dd6-23e10328edcd",
   "metadata": {},
   "outputs": [],
   "source": [
    "def process_dataset(raw_data):\n",
    "    encoded_data = raw_data.copy()\n",
    "    \n",
    "    # map user IDs to indices\n",
    "    user_list = encoded_data['user'].unique().tolist()\n",
    "    user_id2idx_dict = {x: i for i, x in enumerate(user_list)}\n",
    "    user_idx2id_dict = {i: x for i, x in enumerate(user_list)}\n",
    "    \n",
    "    # map course IDs to indices\n",
    "    course_list = encoded_data['item'].unique().tolist()\n",
    "    course_id2idx_dict = {x: i for i, x in enumerate(course_list)}\n",
    "    course_idx2id_dict = {i: x for i, x in enumerate(course_list)}\n",
    "\n",
    "    encoded_data['user'] = encoded_data['user'].map(user_id2idx_dict)  # convert original user IDs to idx\n",
    "    encoded_data['item'] = encoded_data['item'].map(course_id2idx_dict)  # convert original course IDs to idx\n",
    "    encoded_data['rating'] = encoded_data['rating'].values.astype('int')  # convert rating to int\n",
    "\n",
    "    return encoded_data, user_idx2id_dict, course_idx2id_dict"
   ]
  },
  {
   "cell_type": "code",
   "execution_count": 6,
   "id": "6630f6de-c688-41de-97cc-38654e7ad5df",
   "metadata": {},
   "outputs": [
    {
     "data": {
      "text/html": [
       "<div>\n",
       "<style scoped>\n",
       "    .dataframe tbody tr th:only-of-type {\n",
       "        vertical-align: middle;\n",
       "    }\n",
       "\n",
       "    .dataframe tbody tr th {\n",
       "        vertical-align: top;\n",
       "    }\n",
       "\n",
       "    .dataframe thead th {\n",
       "        text-align: right;\n",
       "    }\n",
       "</style>\n",
       "<table border=\"1\" class=\"dataframe\">\n",
       "  <thead>\n",
       "    <tr style=\"text-align: right;\">\n",
       "      <th></th>\n",
       "      <th>user</th>\n",
       "      <th>item</th>\n",
       "      <th>rating</th>\n",
       "    </tr>\n",
       "  </thead>\n",
       "  <tbody>\n",
       "    <tr>\n",
       "      <th>0</th>\n",
       "      <td>0</td>\n",
       "      <td>0</td>\n",
       "      <td>3</td>\n",
       "    </tr>\n",
       "    <tr>\n",
       "      <th>1</th>\n",
       "      <td>1</td>\n",
       "      <td>1</td>\n",
       "      <td>3</td>\n",
       "    </tr>\n",
       "    <tr>\n",
       "      <th>2</th>\n",
       "      <td>2</td>\n",
       "      <td>2</td>\n",
       "      <td>3</td>\n",
       "    </tr>\n",
       "    <tr>\n",
       "      <th>3</th>\n",
       "      <td>3</td>\n",
       "      <td>3</td>\n",
       "      <td>3</td>\n",
       "    </tr>\n",
       "    <tr>\n",
       "      <th>4</th>\n",
       "      <td>4</td>\n",
       "      <td>4</td>\n",
       "      <td>3</td>\n",
       "    </tr>\n",
       "  </tbody>\n",
       "</table>\n",
       "</div>"
      ],
      "text/plain": [
       "   user  item  rating\n",
       "0     0     0       3\n",
       "1     1     1       3\n",
       "2     2     2       3\n",
       "3     3     3       3\n",
       "4     4     4       3"
      ]
     },
     "execution_count": 6,
     "metadata": {},
     "output_type": "execute_result"
    }
   ],
   "source": [
    "encoded_data, user_idx2id_dict, course_idx2id_dict = process_dataset(rating_df)\n",
    "encoded_data.head()"
   ]
  },
  {
   "cell_type": "code",
   "execution_count": 7,
   "id": "94d8914f-96b0-400d-998a-52ee2221de00",
   "metadata": {},
   "outputs": [],
   "source": [
    "def generate_train_test_datasets(dataset, scale=True):\n",
    "    min_rating = min(dataset['rating'])\n",
    "    max_rating = max(dataset['rating'])\n",
    "\n",
    "    dataset = dataset.sample(frac=1, random_state=42)\n",
    "    x = dataset[['user', 'item']].values\n",
    "\n",
    "    if scale:\n",
    "        y = dataset['rating'].apply(lambda x: (x - min_rating) / (max_rating - min_rating)).values\n",
    "    else:\n",
    "        y = dataset['rating'].values\n",
    "\n",
    "    # training on 80% of data, validating on 10%, testing on 10%\n",
    "    train_indices = int(0.8 * dataset.shape[0])\n",
    "    test_indices = int(0.9 * dataset.shape[0])\n",
    "\n",
    "    x_train, x_val, x_test, y_train, y_val, y_test = (\n",
    "        x[:train_indices],\n",
    "        x[train_indices:test_indices],\n",
    "        x[test_indices:],\n",
    "        y[:train_indices],\n",
    "        y[train_indices:test_indices],\n",
    "        y[test_indices:],\n",
    "    )\n",
    "\n",
    "    return x_train, x_val, x_test, y_train, y_val, y_test"
   ]
  },
  {
   "cell_type": "code",
   "execution_count": 8,
   "id": "5aad7cbb-4c44-4cf4-abfa-8dd837a4d9a7",
   "metadata": {},
   "outputs": [],
   "source": [
    "x_train, x_val, x_test, y_train, y_val, y_test = generate_train_test_datasets(encoded_data)"
   ]
  },
  {
   "cell_type": "code",
   "execution_count": 9,
   "id": "375d736d-e6cf-4b09-941d-c5bb65236eb2",
   "metadata": {},
   "outputs": [
    {
     "data": {
      "text/plain": [
       "array([ 8376,  7659, 10717, ...,  3409, 28761,  4973])"
      ]
     },
     "execution_count": 9,
     "metadata": {},
     "output_type": "execute_result"
    }
   ],
   "source": [
    "user_indices = x_train[:, 0]\n",
    "user_indices"
   ]
  },
  {
   "cell_type": "code",
   "execution_count": 10,
   "id": "cae9bcb5-edc3-401e-8caf-bf04f771b9b3",
   "metadata": {},
   "outputs": [
    {
     "data": {
      "text/plain": [
       "array([12, 29,  3, ..., 18, 19, 17])"
      ]
     },
     "execution_count": 10,
     "metadata": {},
     "output_type": "execute_result"
    }
   ],
   "source": [
    "item_indices = x_train[:, 1]\n",
    "item_indices"
   ]
  },
  {
   "cell_type": "code",
   "execution_count": 11,
   "id": "b8baa9e0-d60c-4194-8a75-ad38c704d3b0",
   "metadata": {},
   "outputs": [
    {
     "data": {
      "text/plain": [
       "array([1., 1., 1., ..., 1., 0., 1.])"
      ]
     },
     "execution_count": 11,
     "metadata": {},
     "output_type": "execute_result"
    }
   ],
   "source": [
    "y_train"
   ]
  },
  {
   "cell_type": "code",
   "execution_count": 12,
   "id": "e6f7194d-707b-4ef2-9995-cd6ca92be950",
   "metadata": {},
   "outputs": [
    {
     "name": "stdout",
     "output_type": "stream",
     "text": [
      "Epoch 1/10\n",
      "2917/2917 [==============================] - 12s 4ms/step - loss: 0.0695 - root_mean_squared_error: 0.2631 - val_loss: 0.0382 - val_root_mean_squared_error: 0.1945\n",
      "Epoch 2/10\n",
      "2917/2917 [==============================] - 9s 3ms/step - loss: 0.0339 - root_mean_squared_error: 0.1829 - val_loss: 0.0320 - val_root_mean_squared_error: 0.1773\n",
      "Epoch 3/10\n",
      "2917/2917 [==============================] - 9s 3ms/step - loss: 0.0290 - root_mean_squared_error: 0.1683 - val_loss: 0.0289 - val_root_mean_squared_error: 0.1675\n",
      "Epoch 4/10\n",
      "2917/2917 [==============================] - 9s 3ms/step - loss: 0.0270 - root_mean_squared_error: 0.1617 - val_loss: 0.0277 - val_root_mean_squared_error: 0.1634\n",
      "Epoch 5/10\n",
      "2917/2917 [==============================] - 9s 3ms/step - loss: 0.0260 - root_mean_squared_error: 0.1579 - val_loss: 0.0270 - val_root_mean_squared_error: 0.1611\n",
      "Epoch 6/10\n",
      "2917/2917 [==============================] - 9s 3ms/step - loss: 0.0250 - root_mean_squared_error: 0.1548 - val_loss: 0.0264 - val_root_mean_squared_error: 0.1592\n",
      "Epoch 7/10\n",
      "2917/2917 [==============================] - 9s 3ms/step - loss: 0.0242 - root_mean_squared_error: 0.1521 - val_loss: 0.0260 - val_root_mean_squared_error: 0.1578\n",
      "Epoch 8/10\n",
      "2917/2917 [==============================] - 9s 3ms/step - loss: 0.0233 - root_mean_squared_error: 0.1491 - val_loss: 0.0254 - val_root_mean_squared_error: 0.1561\n",
      "Epoch 9/10\n",
      "2917/2917 [==============================] - 9s 3ms/step - loss: 0.0226 - root_mean_squared_error: 0.1467 - val_loss: 0.0248 - val_root_mean_squared_error: 0.1541\n",
      "Epoch 10/10\n",
      "2917/2917 [==============================] - 10s 3ms/step - loss: 0.0219 - root_mean_squared_error: 0.1443 - val_loss: 0.0244 - val_root_mean_squared_error: 0.1527\n"
     ]
    }
   ],
   "source": [
    "embedding_size = 16\n",
    "model = RecommenderNet(num_users, num_items, embedding_size)\n",
    "\n",
    "# compile model\n",
    "model.compile(\n",
    "    loss=tf.keras.losses.MeanSquaredError(),\n",
    "    optimizer=keras.optimizers.Adam(),\n",
    "    metrics=[tf.keras.metrics.RootMeanSquaredError()]\n",
    ")\n",
    "\n",
    "# train model\n",
    "history = model.fit(\n",
    "    x=x_train, y=y_train,\n",
    "    batch_size=64, epochs=10, verbose=1,\n",
    "    validation_data=(x_val, y_val)\n",
    ")"
   ]
  },
  {
   "cell_type": "code",
   "execution_count": 13,
   "id": "e1805eaa-3f3c-41fc-9a0c-4e38df1ffc57",
   "metadata": {},
   "outputs": [
    {
     "data": {
      "image/png": "[encoded data removed]",
      "text/plain": [
       "<Figure size 432x288 with 1 Axes>"
      ]
     },
     "metadata": {
      "needs_background": "light"
     },
     "output_type": "display_data"
    }
   ],
   "source": [
    "# plot train loss vs validation loss\n",
    "plt.figure()\n",
    "plt.plot(history.history['loss'], label='Train Loss')\n",
    "plt.plot(history.history['val_loss'], label='Validation Loss')\n",
    "plt.xlabel('Epoch')\n",
    "plt.ylabel('Loss')\n",
    "plt.legend()\n",
    "plt.show()"
   ]
  },
  {
   "cell_type": "code",
   "execution_count": 14,
   "id": "c0cd4a0b-c3e3-41d9-b444-1f5899df1519",
   "metadata": {},
   "outputs": [
    {
     "name": "stdout",
     "output_type": "stream",
     "text": [
      "730/730 [==============================] - 1s 1ms/step - loss: 0.0261 - root_mean_squared_error: 0.1581\n",
      "Test loss: 0.026054207235574722\n",
      "Test RMSE: 0.1580856740474701\n"
     ]
    }
   ],
   "source": [
    "test_loss, test_rmse = model.evaluate(x_test, y_test)  # evaluate trained model\n",
    "print(f'Test loss: {test_loss}')\n",
    "print(f'Test RMSE: {test_rmse}')"
   ]
  },
  {
   "cell_type": "code",
   "execution_count": 15,
   "id": "d7be6a41-e96b-4da6-9019-13463bd5e3d7",
   "metadata": {},
   "outputs": [
    {
     "name": "stdout",
     "output_type": "stream",
     "text": [
      "Model: \"recommender_net\"\n",
      "_________________________________________________________________\n",
      " Layer (type)                Output Shape              Param #   \n",
      "=================================================================\n",
      " user_embedding_layer (Embed  multiple                 542416    \n",
      " ding)                                                           \n",
      "                                                                 \n",
      " user_bias (Embedding)       multiple                  33901     \n",
      "                                                                 \n",
      " item_embedding_layer (Embed  multiple                 2016      \n",
      " ding)                                                           \n",
      "                                                                 \n",
      " item_bias (Embedding)       multiple                  126       \n",
      "                                                                 \n",
      "=================================================================\n",
      "Total params: 578,459\n",
      "Trainable params: 578,459\n",
      "Non-trainable params: 0\n",
      "_________________________________________________________________\n"
     ]
    }
   ],
   "source": [
    "model.summary()"
   ]
  },
  {
   "cell_type": "code",
   "execution_count": 16,
   "id": "8a756bf7-3e0d-45cf-9ff1-30c722afda2c",
   "metadata": {},
   "outputs": [
    {
     "name": "stdout",
     "output_type": "stream",
     "text": [
      "User features shape: (33901, 16)\n"
     ]
    }
   ],
   "source": [
    "user_latent_features = model.get_layer('user_embedding_layer').get_weights()[0]\n",
    "print(f'User features shape: {user_latent_features.shape}') # 33,901 users"
   ]
  },
  {
   "cell_type": "code",
   "execution_count": 17,
   "id": "1bf5bfb8-f24b-4181-a5b8-e5d7db67c17d",
   "metadata": {},
   "outputs": [
    {
     "data": {
      "text/plain": [
       "array([-0.09764555, -0.12024701, -0.12710136,  0.07902844, -0.05633088,\n",
       "       -0.02569449, -0.04428352, -0.02972022, -0.01748493,  0.07949319,\n",
       "        0.09854145, -0.02577873,  0.01422578, -0.10008125,  0.01103301,\n",
       "        0.04338366], dtype=float32)"
      ]
     },
     "execution_count": 17,
     "metadata": {},
     "output_type": "execute_result"
    }
   ],
   "source": [
    "user_latent_features[0]  # 16 latent features"
   ]
  },
  {
   "cell_type": "code",
   "execution_count": 18,
   "id": "ef301dc6-ba6a-48c8-8cb2-76cb58cdfd56",
   "metadata": {},
   "outputs": [
    {
     "name": "stdout",
     "output_type": "stream",
     "text": [
      "Item features shape: (126, 16)\n"
     ]
    }
   ],
   "source": [
    "item_latent_features = model.get_layer('item_embedding_layer').get_weights()[0]\n",
    "print(f'Item features shape: {item_latent_features.shape}')  # 126 items/courses"
   ]
  },
  {
   "cell_type": "code",
   "execution_count": 19,
   "id": "a6b25ceb-0afe-4f48-a29a-69a1f164a495",
   "metadata": {},
   "outputs": [
    {
     "data": {
      "text/plain": [
       "array([-0.09623621, -0.02826633, -0.031153  ,  0.02176176, -0.03617298,\n",
       "       -0.03761115,  0.02437068,  0.11826409, -0.18929671,  0.07310512,\n",
       "       -0.03065937,  0.0494266 , -0.06449994, -0.03714623,  0.0443632 ,\n",
       "       -0.09654468], dtype=float32)"
      ]
     },
     "execution_count": 19,
     "metadata": {},
     "output_type": "execute_result"
    }
   ],
   "source": [
    "item_latent_features[0]"
   ]
  }
 ],
 "metadata": {
  "kernelspec": {
   "display_name": "Python 3 (ipykernel)",
   "language": "python",
   "name": "python3"
  },
  "language_info": {
   "codemirror_mode": {
    "name": "ipython",
    "version": 3
   },
   "file_extension": ".py",
   "mimetype": "text/x-python",
   "name": "python",
   "nbconvert_exporter": "python",
   "pygments_lexer": "ipython3",
   "version": "3.9.12"
  }
 },
 "nbformat": 4,
 "nbformat_minor": 5
}
