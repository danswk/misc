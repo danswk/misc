{
 "cells": [
  {
   "cell_type": "code",
   "execution_count": 4,
   "id": "09a239e4-c169-471d-a5ae-aa874fb32732",
   "metadata": {},
   "outputs": [
    {
     "name": "stdout",
     "output_type": "stream",
     "text": [
      "Requirement already satisfied: seaborn==0.11.1 in /opt/anaconda3/lib/python3.9/site-packages (0.11.1)\n",
      "Requirement already satisfied: numpy>=1.15 in /opt/anaconda3/lib/python3.9/site-packages (from seaborn==0.11.1) (1.26.3)\n",
      "Requirement already satisfied: scipy>=1.0 in /opt/anaconda3/lib/python3.9/site-packages (from seaborn==0.11.1) (1.11.4)\n",
      "Requirement already satisfied: matplotlib>=2.2 in /opt/anaconda3/lib/python3.9/site-packages (from seaborn==0.11.1) (3.8.2)\n",
      "Requirement already satisfied: pandas>=0.23 in /opt/anaconda3/lib/python3.9/site-packages (from seaborn==0.11.1) (2.2.0)\n",
      "Requirement already satisfied: importlib-resources>=3.2.0 in /opt/anaconda3/lib/python3.9/site-packages (from matplotlib>=2.2->seaborn==0.11.1) (6.1.1)\n",
      "Requirement already satisfied: fonttools>=4.22.0 in /opt/anaconda3/lib/python3.9/site-packages (from matplotlib>=2.2->seaborn==0.11.1) (4.25.0)\n",
      "Requirement already satisfied: python-dateutil>=2.7 in /opt/anaconda3/lib/python3.9/site-packages (from matplotlib>=2.2->seaborn==0.11.1) (2.8.2)\n",
      "Requirement already satisfied: cycler>=0.10 in /opt/anaconda3/lib/python3.9/site-packages (from matplotlib>=2.2->seaborn==0.11.1) (0.11.0)\n",
      "Requirement already satisfied: contourpy>=1.0.1 in /opt/anaconda3/lib/python3.9/site-packages (from matplotlib>=2.2->seaborn==0.11.1) (1.2.0)\n",
      "Requirement already satisfied: kiwisolver>=1.3.1 in /opt/anaconda3/lib/python3.9/site-packages (from matplotlib>=2.2->seaborn==0.11.1) (1.3.2)\n",
      "Requirement already satisfied: pyparsing>=2.3.1 in /opt/anaconda3/lib/python3.9/site-packages (from matplotlib>=2.2->seaborn==0.11.1) (3.0.4)\n",
      "Requirement already satisfied: packaging>=20.0 in /opt/anaconda3/lib/python3.9/site-packages (from matplotlib>=2.2->seaborn==0.11.1) (21.3)\n",
      "Requirement already satisfied: pillow>=8 in /opt/anaconda3/lib/python3.9/site-packages (from matplotlib>=2.2->seaborn==0.11.1) (9.0.1)\n",
      "Requirement already satisfied: zipp>=3.1.0 in /opt/anaconda3/lib/python3.9/site-packages (from importlib-resources>=3.2.0->matplotlib>=2.2->seaborn==0.11.1) (3.7.0)\n",
      "Requirement already satisfied: pytz>=2020.1 in /opt/anaconda3/lib/python3.9/site-packages (from pandas>=0.23->seaborn==0.11.1) (2021.3)\n",
      "Requirement already satisfied: tzdata>=2022.7 in /opt/anaconda3/lib/python3.9/site-packages (from pandas>=0.23->seaborn==0.11.1) (2023.4)\n",
      "Requirement already satisfied: six>=1.5 in /opt/anaconda3/lib/python3.9/site-packages (from python-dateutil>=2.7->matplotlib>=2.2->seaborn==0.11.1) (1.15.0)\n",
      "Requirement already satisfied: wordcloud==1.8.1 in /opt/anaconda3/lib/python3.9/site-packages (1.8.1)\n",
      "Requirement already satisfied: pillow in /opt/anaconda3/lib/python3.9/site-packages (from wordcloud==1.8.1) (9.0.1)\n",
      "Requirement already satisfied: matplotlib in /opt/anaconda3/lib/python3.9/site-packages (from wordcloud==1.8.1) (3.8.2)\n",
      "Requirement already satisfied: numpy>=1.6.1 in /opt/anaconda3/lib/python3.9/site-packages (from wordcloud==1.8.1) (1.26.3)\n",
      "Requirement already satisfied: packaging>=20.0 in /opt/anaconda3/lib/python3.9/site-packages (from matplotlib->wordcloud==1.8.1) (21.3)\n",
      "Requirement already satisfied: pyparsing>=2.3.1 in /opt/anaconda3/lib/python3.9/site-packages (from matplotlib->wordcloud==1.8.1) (3.0.4)\n",
      "Requirement already satisfied: python-dateutil>=2.7 in /opt/anaconda3/lib/python3.9/site-packages (from matplotlib->wordcloud==1.8.1) (2.8.2)\n",
      "Requirement already satisfied: cycler>=0.10 in /opt/anaconda3/lib/python3.9/site-packages (from matplotlib->wordcloud==1.8.1) (0.11.0)\n",
      "Requirement already satisfied: importlib-resources>=3.2.0 in /opt/anaconda3/lib/python3.9/site-packages (from matplotlib->wordcloud==1.8.1) (6.1.1)\n",
      "Requirement already satisfied: contourpy>=1.0.1 in /opt/anaconda3/lib/python3.9/site-packages (from matplotlib->wordcloud==1.8.1) (1.2.0)\n",
      "Requirement already satisfied: fonttools>=4.22.0 in /opt/anaconda3/lib/python3.9/site-packages (from matplotlib->wordcloud==1.8.1) (4.25.0)\n",
      "Requirement already satisfied: kiwisolver>=1.3.1 in /opt/anaconda3/lib/python3.9/site-packages (from matplotlib->wordcloud==1.8.1) (1.3.2)\n",
      "Requirement already satisfied: zipp>=3.1.0 in /opt/anaconda3/lib/python3.9/site-packages (from importlib-resources>=3.2.0->matplotlib->wordcloud==1.8.1) (3.7.0)\n",
      "Requirement already satisfied: six>=1.5 in /opt/anaconda3/lib/python3.9/site-packages (from python-dateutil>=2.7->matplotlib->wordcloud==1.8.1) (1.15.0)\n"
     ]
    }
   ],
   "source": [
    "!pip install seaborn==0.11.1\n",
    "!pip install wordcloud==1.8.1\n",
    "\n",
    "import numpy as np\n",
    "import pandas as pd\n",
    "import seaborn as sns\n",
    "import matplotlib.pyplot as plt\n",
    "%matplotlib inline\n",
    "from wordcloud import ImageColorGenerator, STOPWORDS, WordCloud\n",
    "\n",
    "def warn(*args, **kwargs):\n",
    "    pass\n",
    "import warnings\n",
    "warnings.warn = warn\n",
    "warnings.filterwarnings('ignore')"
   ]
  },
  {
   "cell_type": "code",
   "execution_count": 5,
   "id": "f480b4eb-f0b8-4fba-85c7-eea74e290fb2",
   "metadata": {},
   "outputs": [],
   "source": [
    "courses_url = 'https://cf-courses-data.s3.us.cloud-object-storage.appdomain.cloud/IBM-ML321EN-SkillsNetwork/labs/datasets/course_genre.csv'\n",
    "ratings_url = 'https://cf-courses-data.s3.us.cloud-object-storage.appdomain.cloud/IBM-ML321EN-SkillsNetwork/labs/datasets/ratings.csv'\n",
    "\n",
    "courses_df = pd.read_csv(courses_url)\n",
    "ratings_df = pd.read_csv(ratings_url)"
   ]
  },
  {
   "cell_type": "code",
   "execution_count": null,
   "id": "fe356bce-3445-4b3c-b21a-4dd7f7eb8a03",
   "metadata": {},
   "outputs": [],
   "source": [
    "# COURSE CONTENT DATASET\n",
    "courses_df.columns"
   ]
  },
  {
   "cell_type": "code",
   "execution_count": null,
   "id": "4b51ce71-bdc2-44b2-9b23-6235c106c904",
   "metadata": {},
   "outputs": [],
   "source": [
    "courses_df.shape[0]  # 307 unique courses"
   ]
  },
  {
   "cell_type": "code",
   "execution_count": null,
   "id": "ac6cee62-c5ab-46fd-b1b9-aa91733fb56f",
   "metadata": {},
   "outputs": [],
   "source": [
    "courses_df.head()"
   ]
  },
  {
   "cell_type": "code",
   "execution_count": null,
   "id": "11e72950-68f0-4c18-ad32-05caeb222204",
   "metadata": {},
   "outputs": [],
   "source": [
    "courses_df.dtypes"
   ]
  },
  {
   "cell_type": "code",
   "execution_count": null,
   "id": "86a68227-ee45-4346-83f3-b1c7c2c8179f",
   "metadata": {},
   "outputs": [],
   "source": [
    "courses_df.iloc[1, ]"
   ]
  },
  {
   "cell_type": "code",
   "execution_count": null,
   "id": "9ef03851-e436-4082-90bc-f97e57e295f6",
   "metadata": {},
   "outputs": [],
   "source": [
    "titles = ' '.join(title for title in courses_df.TITLE.astype(str))  # coalesce course titles into single string\n",
    "titles"
   ]
  },
  {
   "cell_type": "code",
   "execution_count": null,
   "id": "3d3dc717-35e6-40aa-8887-6c140f0a4ad5",
   "metadata": {},
   "outputs": [],
   "source": [
    "# filter stopwords\n",
    "stopwords = set(STOPWORDS)  # filter doesn't work if set() run without 'STOPWORDS'\n",
    "stopwords.update(['getting started', 'using', 'enabling', 'template', 'university', 'end', 'introduction', 'basic'])"
   ]
  },
  {
   "cell_type": "code",
   "execution_count": null,
   "id": "b1b34351-35a0-4ac1-9ef9-1e267597a044",
   "metadata": {},
   "outputs": [],
   "source": [
    "# generate wordcloud\n",
    "wordcloud = WordCloud(stopwords=stopwords, background_color='white', width=800, height=400)\n",
    "wordcloud.generate(titles)"
   ]
  },
  {
   "cell_type": "code",
   "execution_count": null,
   "id": "1fcd7fd8-0c9f-4315-bdc7-503500628d0e",
   "metadata": {},
   "outputs": [],
   "source": [
    "# visualise wordcloud\n",
    "plt.axis('off')\n",
    "plt.figure(figsize=(40, 20))\n",
    "plt.tight_layout(pad=0)\n",
    "plt.imshow(wordcloud, interpolation='bilinear')\n",
    "plt.show()"
   ]
  },
  {
   "cell_type": "code",
   "execution_count": null,
   "id": "1d19a4b5-ce33-484e-9bf7-fdd802bab953",
   "metadata": {},
   "outputs": [],
   "source": [
    "# find courses with MachineLearning == 1\n",
    "ml_df = courses_df[courses_df.MachineLearning == 1]\n",
    "ml_df.TITLE"
   ]
  },
  {
   "cell_type": "code",
   "execution_count": null,
   "id": "7776775a-e7e7-43d8-bcf6-534095420c94",
   "metadata": {},
   "outputs": [],
   "source": [
    "# find courses with MachineLearning == 1 and BigData == 1\n",
    "ml_bd_df = ml_df[ml_df.BigData == 1]\n",
    "ml_bd_df.TITLE"
   ]
  },
  {
   "cell_type": "code",
   "execution_count": null,
   "id": "74d3922e-3ed5-4053-9c9a-d107d6bf6e09",
   "metadata": {},
   "outputs": [],
   "source": [
    "genres = courses_df.columns[2:]\n",
    "genres"
   ]
  },
  {
   "cell_type": "code",
   "execution_count": null,
   "id": "c9d4fd96-fa34-4642-8baa-60446a40fa14",
   "metadata": {},
   "outputs": [],
   "source": [
    "courses_df.Python.value_counts()  # 279 non-Python courses, 28 Python courses"
   ]
  },
  {
   "cell_type": "code",
   "execution_count": null,
   "id": "de24d291-215d-4b30-b3ed-2c3c6ae2b4f9",
   "metadata": {},
   "outputs": [],
   "source": [
    "genre_sums = courses_df[genres].sum(axis=0)\n",
    "genre_sums  # BackendDev most popular genre; Chatbot, Blockchain least"
   ]
  },
  {
   "cell_type": "code",
   "execution_count": null,
   "id": "0c1d82aa-41c3-4744-b736-a00bb7b40c88",
   "metadata": {},
   "outputs": [],
   "source": [
    "gs_df = pd.DataFrame({'genre': genre_sums.index, 'count': genre_sums.values}).set_index('genre')\n",
    "gs_df = gs_df.sort_values(by='count', ascending=False)\n",
    "gs_df"
   ]
  },
  {
   "cell_type": "code",
   "execution_count": null,
   "id": "49e91fd7-58da-4305-8bba-ffcfe3d98ea5",
   "metadata": {},
   "outputs": [],
   "source": [
    "# plot course genre counts\n",
    "plt.figure()\n",
    "sns.barplot(x=gs_df.index, y='count', data=gs_df, palette='crest')\n",
    "plt.xticks(rotation=45, ha='right')\n",
    "plt.show()"
   ]
  },
  {
   "cell_type": "code",
   "execution_count": null,
   "id": "b786c492-80c3-4a76-b7a1-10947125668a",
   "metadata": {},
   "outputs": [],
   "source": [
    "# COURSE ENROLMENTS DATASET\n",
    "ratings_df.head()"
   ]
  },
  {
   "cell_type": "code",
   "execution_count": null,
   "id": "efc0a028-75e5-4839-a94b-cf4f23047ac2",
   "metadata": {},
   "outputs": [],
   "source": [
    "ratings_df.rating.unique()  # 2: user audited course without completing; 3: user completed course and earned certificate"
   ]
  },
  {
   "cell_type": "code",
   "execution_count": null,
   "id": "95ae1c1c-05dd-4323-b5f8-8f1cf771c5b7",
   "metadata": {},
   "outputs": [],
   "source": [
    "total = ratings_df.shape[0]\n",
    "total  # 233,306 total enrolments"
   ]
  },
  {
   "cell_type": "code",
   "execution_count": null,
   "id": "58aa1eaa-a5c9-42cc-8a76-dd58a6d98c46",
   "metadata": {},
   "outputs": [],
   "source": [
    "user_rating_counts = ratings_df.groupby('user').rating.size()\n",
    "print(user_rating_counts)"
   ]
  },
  {
   "cell_type": "code",
   "execution_count": null,
   "id": "98205e2a-8fc8-43b1-97dd-ad3443b0f31e",
   "metadata": {},
   "outputs": [],
   "source": [
    "user_rating_counts.size  # 33,901 users enrolled in 233,306 courses"
   ]
  },
  {
   "cell_type": "code",
   "execution_count": null,
   "id": "6e0ac22b-c75c-4596-974c-681912b5b54f",
   "metadata": {},
   "outputs": [],
   "source": [
    "user_rating_counts.value_counts()"
   ]
  },
  {
   "cell_type": "code",
   "execution_count": null,
   "id": "2e078edd-f192-4beb-b052-d48e7ebc4fc8",
   "metadata": {},
   "outputs": [],
   "source": [
    "user_rating_counts.describe()"
   ]
  },
  {
   "cell_type": "code",
   "execution_count": null,
   "id": "4cb6535c-6813-4dd8-bed7-bb574d278ebf",
   "metadata": {},
   "outputs": [],
   "source": [
    "# plot course enrolment counts\n",
    "plt.figure()\n",
    "cm = sns.color_palette(\"crest\",30)\n",
    "plot = sns.histplot(user_rating_counts, bins=75, palette=cm)\n",
    "for bin_,i in zip(plot.patches,cm):\n",
    "    bin_.set_facecolor(i)\n",
    "plt.xlabel('enrolments')\n",
    "plt.ylabel('count')\n",
    "plt.show()"
   ]
  },
  {
   "cell_type": "code",
   "execution_count": null,
   "id": "e2cb1a60-200d-4d71-9be0-13c34e2b397d",
   "metadata": {},
   "outputs": [],
   "source": [
    "# aggregate enrolment ('rating') counts for each course ('item')\n",
    "agg_df = ratings_df.groupby(['item']).size().reset_index()\n",
    "agg_df.columns = ['course', 'enrolments']\n",
    "agg_df = agg_df.sort_values(by='enrolments', ascending=False).reset_index(drop=True)\n",
    "agg_df"
   ]
  },
  {
   "cell_type": "code",
   "execution_count": null,
   "id": "1e93bb7f-b266-4f12-92dc-4d89e18847b4",
   "metadata": {},
   "outputs": [],
   "source": [
    "agg_df.head(20)  # view enrolment counts for top 20 courses"
   ]
  },
  {
   "cell_type": "code",
   "execution_count": null,
   "id": "5877d40d-a13d-4537-a92b-ede5dba602ca",
   "metadata": {},
   "outputs": [],
   "source": [
    "# check course names against enrolment counts\n",
    "merge_df = pd.merge(courses_df[['COURSE_ID', 'TITLE']], agg_df, left_on='COURSE_ID', right_on='course', how='right')\n",
    "merge_df.columns = ['a', 'course', 'b', 'enrolments']\n",
    "top_courses = merge_df[['course', 'enrolments']].head(20)\n",
    "top_courses"
   ]
  },
  {
   "cell_type": "code",
   "execution_count": null,
   "id": "f228f7f7-53a5-4dd1-a641-a57978d2520c",
   "metadata": {},
   "outputs": [],
   "source": [
    "top = top_courses.Enrolments.values.sum()\n",
    "top  # 147,688 enrolments across top 20 courses"
   ]
  },
  {
   "cell_type": "code",
   "execution_count": null,
   "id": "8bc942fd-be51-44d2-9a27-a7f6e5702e34",
   "metadata": {},
   "outputs": [],
   "source": [
    "print(f'Top 20 courses account for {round((top * 100) / total, 2)}% of all enrolments')"
   ]
  }
 ],
 "metadata": {
  "kernelspec": {
   "display_name": "Python 3 (ipykernel)",
   "language": "python",
   "name": "python3"
  },
  "language_info": {
   "codemirror_mode": {
    "name": "ipython",
    "version": 3
   },
   "file_extension": ".py",
   "mimetype": "text/x-python",
   "name": "python",
   "nbconvert_exporter": "python",
   "pygments_lexer": "ipython3",
   "version": "3.9.12"
  }
 },
 "nbformat": 4,
 "nbformat_minor": 5
}
